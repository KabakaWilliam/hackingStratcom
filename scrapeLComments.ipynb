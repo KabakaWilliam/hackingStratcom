{
 "cells": [
  {
   "cell_type": "code",
   "execution_count": 11,
   "metadata": {},
   "outputs": [],
   "source": [
    "from bs4 import BeautifulSoup\n",
    "import requests\n",
    "import html5lib\n",
    "import nltk"
   ]
  },
  {
   "cell_type": "code",
   "execution_count": 12,
   "metadata": {},
   "outputs": [],
   "source": [
    "def getData(link):\n",
    "  r = requests.get(link)\n",
    "  soup = BeautifulSoup(r.content, \"html5lib\")\n",
    "  soup.prettify()\n",
    "  comments = soup.find_all(\"span\", class_= \"comment__message\")\n",
    "  return comments\n"
   ]
  },
  {
   "cell_type": "code",
   "execution_count": 13,
   "metadata": {},
   "outputs": [],
   "source": [
    "def cleanLinkedinComments(comments):\n",
    "  store = []\n",
    "  sentence = \"\"\n",
    "  for comment in comments:\n",
    "    sample = str(comment)\n",
    "    sentence += sample[50:-25]\n",
    "    store.append(sentence)\n",
    "    sentence = \"\"\n",
    "  return store"
   ]
  },
  {
   "cell_type": "code",
   "execution_count": 14,
   "metadata": {},
   "outputs": [],
   "source": [
    "def getComments(link):\n",
    "  soup = getData(link)\n",
    "  cleanComments = cleanLinkedinComments(soup)\n",
    "  return cleanComments"
   ]
  },
  {
   "cell_type": "code",
   "execution_count": 15,
   "metadata": {},
   "outputs": [
    {
     "name": "stderr",
     "output_type": "stream",
     "text": [
      "[nltk_data] Downloading package vader_lexicon to\n",
      "[nltk_data]     /Users/wgl8723/nltk_data...\n",
      "[nltk_data]   Package vader_lexicon is already up-to-date!\n"
     ]
    },
    {
     "data": {
      "text/plain": [
       "True"
      ]
     },
     "execution_count": 15,
     "metadata": {},
     "output_type": "execute_result"
    }
   ],
   "source": [
    "from nltk.sentiment import SentimentIntensityAnalyzer\n",
    "# vader_lexicon \n",
    "nltk.download(\"vader_lexicon\")"
   ]
  },
  {
   "cell_type": "code",
   "execution_count": 20,
   "metadata": {},
   "outputs": [],
   "source": [
    "def getSentiment(data):\n",
    "  sia = SentimentIntensityAnalyzer()\n",
    "  # stats = dict()\n",
    "  # for comment in data:\n",
    "  #   sentiment = sia.polarity_scores(comment)\n",
    "  #   stats[comment] = sentiment\n",
    "  allText = \"\".join(data)\n",
    "  Averagesentiment = sia.polarity_scores(allText)\n",
    "  # print(stats)\n",
    "  return Averagesentiment"
   ]
  },
  {
   "cell_type": "code",
   "execution_count": 21,
   "metadata": {},
   "outputs": [],
   "source": [
    "# create a list of links and pass them to this function\n",
    "def getSentimentFromLink(link):\n",
    "    comments = getComments(link)\n",
    "    sentiment = getSentiment(comments)\n",
    "    return sentiment"
   ]
  },
  {
   "cell_type": "code",
   "execution_count": 22,
   "metadata": {},
   "outputs": [],
   "source": [
    "example = getSentimentFromLink(\"https://www.linkedin.com/posts/harvard-university_ruth-j-simmons-delivers-the-principal-address-activity-6803774660518387712-L51t\")"
   ]
  },
  {
   "cell_type": "code",
   "execution_count": 23,
   "metadata": {},
   "outputs": [
    {
     "data": {
      "text/plain": [
       "{'neg': 0.015, 'neu': 0.648, 'pos': 0.337, 'compound': 0.9839}"
      ]
     },
     "execution_count": 23,
     "metadata": {},
     "output_type": "execute_result"
    }
   ],
   "source": [
    "example"
   ]
  }
 ],
 "metadata": {
  "interpreter": {
   "hash": "d335ea36f835b627c4af31238156ad3f909e79a778278826eea5b3c7a93d2557"
  },
  "kernelspec": {
   "display_name": "Python 3.8.8 64-bit ('base': conda)",
   "language": "python",
   "name": "python3"
  },
  "language_info": {
   "codemirror_mode": {
    "name": "ipython",
    "version": 3
   },
   "file_extension": ".py",
   "mimetype": "text/x-python",
   "name": "python",
   "nbconvert_exporter": "python",
   "pygments_lexer": "ipython3",
   "version": "3.8.8"
  },
  "orig_nbformat": 4
 },
 "nbformat": 4,
 "nbformat_minor": 2
}
